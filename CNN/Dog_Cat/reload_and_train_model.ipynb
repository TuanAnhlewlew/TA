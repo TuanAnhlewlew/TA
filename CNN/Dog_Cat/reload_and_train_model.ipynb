{
 "cells": [
  {
   "cell_type": "code",
   "execution_count": 1,
   "id": "2b63cee7-e6a5-48fb-8acf-d268bba96f4b",
   "metadata": {},
   "outputs": [],
   "source": [
    "import tensorflow as tf\n",
    "from tensorflow.keras.models import Sequential\n",
    "from tensorflow.keras.layers import Dense, Dropout, Activation, Flatten\n",
    "from tensorflow.keras.layers import Conv2D, MaxPooling2D\n",
    "import matplotlib.pyplot as plt\n",
    "import cv2\n",
    "from tensorflow import keras\n",
    "import numpy as np"
   ]
  },
  {
   "cell_type": "code",
   "execution_count": 2,
   "id": "4b7a824e-5de9-4e3e-850c-deda39f7268b",
   "metadata": {},
   "outputs": [],
   "source": [
    "model_path='C:/Users/LENOVO/Desktop/PYTHON Program/CNN/saved_model'"
   ]
  },
  {
   "cell_type": "code",
   "execution_count": 3,
   "id": "cfd67bd6-e0f2-4a26-bc33-f7d53690cf53",
   "metadata": {},
   "outputs": [],
   "source": [
    "#load model\n",
    "model=keras.models.load_model(model_path)"
   ]
  },
  {
   "cell_type": "code",
   "execution_count": 4,
   "id": "fe0c31bb-27f8-434c-a702-876bfcbbbe47",
   "metadata": {},
   "outputs": [],
   "source": [
    "#load data\n",
    "\n",
    "X=np.load('features.npy')\n",
    "y=np.load('labels.npy')\n",
    "\n",
    "X = X/255.0"
   ]
  },
  {
   "cell_type": "code",
   "execution_count": 10,
   "id": "9fc4c3fb-1fd7-43c8-8ae8-0390d51b26de",
   "metadata": {},
   "outputs": [
    {
     "name": "stdout",
     "output_type": "stream",
     "text": [
      "Epoch 1/5\n",
      "546/546 [==============================] - 37s 68ms/step - loss: 0.3207 - accuracy: 0.8577 - val_loss: 0.5002 - val_accuracy: 0.7831\n",
      "Epoch 2/5\n",
      "546/546 [==============================] - 37s 69ms/step - loss: 0.2930 - accuracy: 0.8708 - val_loss: 0.5337 - val_accuracy: 0.7814\n",
      "Epoch 3/5\n",
      "546/546 [==============================] - 37s 69ms/step - loss: 0.2610 - accuracy: 0.8890 - val_loss: 0.5066 - val_accuracy: 0.7813\n",
      "Epoch 4/5\n",
      "546/546 [==============================] - 37s 69ms/step - loss: 0.2227 - accuracy: 0.9105 - val_loss: 0.5492 - val_accuracy: 0.7785\n",
      "Epoch 5/5\n",
      "546/546 [==============================] - 37s 69ms/step - loss: 0.1842 - accuracy: 0.9287 - val_loss: 0.5735 - val_accuracy: 0.7874\n"
     ]
    },
    {
     "data": {
      "text/plain": [
       "<tensorflow.python.keras.callbacks.History at 0x1a6a620fc10>"
      ]
     },
     "execution_count": 10,
     "metadata": {},
     "output_type": "execute_result"
    }
   ],
   "source": [
    "#continue train\n",
    "model.fit(X, y, batch_size=32, epochs=5, validation_split=0.1)"
   ]
  },
  {
   "cell_type": "code",
   "execution_count": 34,
   "id": "67e67d00-ba8e-47e8-863e-6f0f070380a6",
   "metadata": {},
   "outputs": [
    {
     "name": "stdout",
     "output_type": "stream",
     "text": [
      "INFO:tensorflow:Assets written to: C:/Users/LENOVO/Desktop/PYTHON Program/CNN/saved_model\\assets\n"
     ]
    }
   ],
   "source": [
    "model.save(model_path)"
   ]
  },
  {
   "cell_type": "code",
   "execution_count": null,
   "id": "b373f411-9c09-418d-8227-b9d6628b4d45",
   "metadata": {},
   "outputs": [],
   "source": []
  }
 ],
 "metadata": {
  "kernelspec": {
   "display_name": "Python 3 (ipykernel)",
   "language": "python",
   "name": "python3"
  },
  "language_info": {
   "codemirror_mode": {
    "name": "ipython",
    "version": 3
   },
   "file_extension": ".py",
   "mimetype": "text/x-python",
   "name": "python",
   "nbconvert_exporter": "python",
   "pygments_lexer": "ipython3",
   "version": "3.9.0"
  }
 },
 "nbformat": 4,
 "nbformat_minor": 5
}
